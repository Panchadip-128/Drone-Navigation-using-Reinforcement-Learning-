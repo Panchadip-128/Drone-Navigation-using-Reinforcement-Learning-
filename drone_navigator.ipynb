{
  "nbformat": 4,
  "nbformat_minor": 0,
  "metadata": {
    "colab": {
      "provenance": []
    },
    "kernelspec": {
      "name": "python3",
      "display_name": "Python 3"
    },
    "language_info": {
      "name": "python"
    }
  },
  "cells": [
    {
      "cell_type": "code",
      "execution_count": 2,
      "metadata": {
        "id": "L9KkQ2iEL3lG"
      },
      "outputs": [],
      "source": [
        "import gym\n",
        "import numpy as np\n",
        "\n",
        "class DroneEnv(gym.Env):\n",
        "    def __init__(self):\n",
        "        super(DroneEnv, self).__init__()\n",
        "        self.action_space = gym.spaces.Discrete(4)  # 0: Up, 1: Down, 2: Left, 3: Right\n",
        "        self.observation_space = gym.spaces.Box(low=0, high=10, shape=(2,), dtype=np.float32)\n",
        "        self.state = np.array([5, 5])  # Starting position of the drone\n",
        "        self.target = np.array([8, 8])  # Target position\n",
        "        self.obstacles = [np.array([6, 6]), np.array([7, 7])]  # Sample obstacles\n",
        "\n",
        "    def reset(self):\n",
        "        self.state = np.array([5, 5])\n",
        "        return self.state\n",
        "\n",
        "    def step(self, action):\n",
        "        if action == 0:  # Up\n",
        "            self.state[1] += 1\n",
        "        elif action == 1:  # Down\n",
        "            self.state[1] -= 1\n",
        "        elif action == 2:  # Left\n",
        "            self.state[0] -= 1\n",
        "        elif action == 3:  # Right\n",
        "            self.state[0] += 1\n",
        "\n",
        "        # Check for collisions\n",
        "        reward = -1\n",
        "        if any(np.array_equal(self.state, obs) for obs in self.obstacles):\n",
        "            reward = -10  # Penalty for hitting an obstacle\n",
        "            done = True\n",
        "        elif np.array_equal(self.state, self.target):\n",
        "            reward = 10  # Reward for reaching the target\n",
        "            done = True\n",
        "        else:\n",
        "            done = False\n",
        "\n",
        "        return self.state, reward, done, {}\n",
        "\n",
        "    def render(self):\n",
        "        print(f\"Drone Position: {self.state}, Target: {self.target}, Obstacles: {self.obstacles}\")\n",
        "\n",
        "# Usage\n",
        "env = DroneEnv()\n"
      ]
    },
    {
      "cell_type": "code",
      "source": [
        "pip install 'shimmy>=0.2.1'\n"
      ],
      "metadata": {
        "colab": {
          "base_uri": "https://localhost:8080/"
        },
        "id": "Xa-rJfw-NFE9",
        "outputId": "b613a504-3f0b-453f-eff7-b33380ba0505"
      },
      "execution_count": 3,
      "outputs": [
        {
          "output_type": "stream",
          "name": "stderr",
          "text": [
            "/usr/local/lib/python3.10/dist-packages/ipykernel/ipkernel.py:283: DeprecationWarning: `should_run_async` will not call `transform_cell` automatically in the future. Please pass the result to `transformed_cell` argument and any exception that happen during thetransform in `preprocessing_exc_tuple` in IPython 7.17 and above.\n",
            "  and should_run_async(code)\n"
          ]
        },
        {
          "output_type": "stream",
          "name": "stdout",
          "text": [
            "Requirement already satisfied: shimmy>=0.2.1 in /usr/local/lib/python3.10/dist-packages (2.0.0)\n",
            "Requirement already satisfied: numpy>=1.18.0 in /usr/local/lib/python3.10/dist-packages (from shimmy>=0.2.1) (1.26.4)\n",
            "Requirement already satisfied: gymnasium>=1.0.0a1 in /usr/local/lib/python3.10/dist-packages (from shimmy>=0.2.1) (1.0.0a2)\n",
            "Requirement already satisfied: cloudpickle>=1.2.0 in /usr/local/lib/python3.10/dist-packages (from gymnasium>=1.0.0a1->shimmy>=0.2.1) (2.2.1)\n",
            "Requirement already satisfied: typing-extensions>=4.3.0 in /usr/local/lib/python3.10/dist-packages (from gymnasium>=1.0.0a1->shimmy>=0.2.1) (4.12.2)\n",
            "Requirement already satisfied: farama-notifications>=0.0.1 in /usr/local/lib/python3.10/dist-packages (from gymnasium>=1.0.0a1->shimmy>=0.2.1) (0.0.4)\n"
          ]
        }
      ]
    },
    {
      "cell_type": "code",
      "source": [
        "pip install gym shimmy\n"
      ],
      "metadata": {
        "colab": {
          "base_uri": "https://localhost:8080/"
        },
        "id": "Ude1LcWCNISZ",
        "outputId": "d1192cce-bd35-4211-b495-3df1a3c2cdbb"
      },
      "execution_count": 1,
      "outputs": [
        {
          "output_type": "stream",
          "name": "stdout",
          "text": [
            "Requirement already satisfied: gym in /usr/local/lib/python3.10/dist-packages (0.25.2)\n",
            "Requirement already satisfied: shimmy in /usr/local/lib/python3.10/dist-packages (2.0.0)\n",
            "Requirement already satisfied: numpy>=1.18.0 in /usr/local/lib/python3.10/dist-packages (from gym) (1.26.4)\n",
            "Requirement already satisfied: cloudpickle>=1.2.0 in /usr/local/lib/python3.10/dist-packages (from gym) (2.2.1)\n",
            "Requirement already satisfied: gym-notices>=0.0.4 in /usr/local/lib/python3.10/dist-packages (from gym) (0.0.8)\n",
            "Requirement already satisfied: gymnasium>=1.0.0a1 in /usr/local/lib/python3.10/dist-packages (from shimmy) (1.0.0a2)\n",
            "Requirement already satisfied: typing-extensions>=4.3.0 in /usr/local/lib/python3.10/dist-packages (from gymnasium>=1.0.0a1->shimmy) (4.12.2)\n",
            "Requirement already satisfied: farama-notifications>=0.0.1 in /usr/local/lib/python3.10/dist-packages (from gymnasium>=1.0.0a1->shimmy) (0.0.4)\n"
          ]
        }
      ]
    },
    {
      "cell_type": "code",
      "source": [
        "pip install stable-baselines3\n"
      ],
      "metadata": {
        "colab": {
          "base_uri": "https://localhost:8080/"
        },
        "id": "G-t8gAXkNLPK",
        "outputId": "525163f8-cd8f-4fca-bbe3-df87dd2eea05"
      },
      "execution_count": 6,
      "outputs": [
        {
          "output_type": "stream",
          "name": "stdout",
          "text": [
            "Requirement already satisfied: stable-baselines3 in /usr/local/lib/python3.10/dist-packages (2.3.2)\n",
            "Requirement already satisfied: gymnasium<0.30,>=0.28.1 in /usr/local/lib/python3.10/dist-packages (from stable-baselines3) (0.29.1)\n",
            "Requirement already satisfied: numpy>=1.20 in /usr/local/lib/python3.10/dist-packages (from stable-baselines3) (1.26.4)\n",
            "Requirement already satisfied: torch>=1.13 in /usr/local/lib/python3.10/dist-packages (from stable-baselines3) (2.4.1+cu121)\n",
            "Requirement already satisfied: cloudpickle in /usr/local/lib/python3.10/dist-packages (from stable-baselines3) (2.2.1)\n",
            "Requirement already satisfied: pandas in /usr/local/lib/python3.10/dist-packages (from stable-baselines3) (2.1.4)\n",
            "Requirement already satisfied: matplotlib in /usr/local/lib/python3.10/dist-packages (from stable-baselines3) (3.7.1)\n",
            "Requirement already satisfied: typing-extensions>=4.3.0 in /usr/local/lib/python3.10/dist-packages (from gymnasium<0.30,>=0.28.1->stable-baselines3) (4.12.2)\n",
            "Requirement already satisfied: farama-notifications>=0.0.1 in /usr/local/lib/python3.10/dist-packages (from gymnasium<0.30,>=0.28.1->stable-baselines3) (0.0.4)\n",
            "Requirement already satisfied: filelock in /usr/local/lib/python3.10/dist-packages (from torch>=1.13->stable-baselines3) (3.16.1)\n",
            "Requirement already satisfied: sympy in /usr/local/lib/python3.10/dist-packages (from torch>=1.13->stable-baselines3) (1.13.3)\n",
            "Requirement already satisfied: networkx in /usr/local/lib/python3.10/dist-packages (from torch>=1.13->stable-baselines3) (3.3)\n",
            "Requirement already satisfied: jinja2 in /usr/local/lib/python3.10/dist-packages (from torch>=1.13->stable-baselines3) (3.1.4)\n",
            "Requirement already satisfied: fsspec in /usr/local/lib/python3.10/dist-packages (from torch>=1.13->stable-baselines3) (2024.6.1)\n",
            "Requirement already satisfied: contourpy>=1.0.1 in /usr/local/lib/python3.10/dist-packages (from matplotlib->stable-baselines3) (1.3.0)\n",
            "Requirement already satisfied: cycler>=0.10 in /usr/local/lib/python3.10/dist-packages (from matplotlib->stable-baselines3) (0.12.1)\n",
            "Requirement already satisfied: fonttools>=4.22.0 in /usr/local/lib/python3.10/dist-packages (from matplotlib->stable-baselines3) (4.53.1)\n",
            "Requirement already satisfied: kiwisolver>=1.0.1 in /usr/local/lib/python3.10/dist-packages (from matplotlib->stable-baselines3) (1.4.7)\n",
            "Requirement already satisfied: packaging>=20.0 in /usr/local/lib/python3.10/dist-packages (from matplotlib->stable-baselines3) (24.1)\n",
            "Requirement already satisfied: pillow>=6.2.0 in /usr/local/lib/python3.10/dist-packages (from matplotlib->stable-baselines3) (10.4.0)\n",
            "Requirement already satisfied: pyparsing>=2.3.1 in /usr/local/lib/python3.10/dist-packages (from matplotlib->stable-baselines3) (3.1.4)\n",
            "Requirement already satisfied: python-dateutil>=2.7 in /usr/local/lib/python3.10/dist-packages (from matplotlib->stable-baselines3) (2.8.2)\n",
            "Requirement already satisfied: pytz>=2020.1 in /usr/local/lib/python3.10/dist-packages (from pandas->stable-baselines3) (2024.2)\n",
            "Requirement already satisfied: tzdata>=2022.1 in /usr/local/lib/python3.10/dist-packages (from pandas->stable-baselines3) (2024.1)\n",
            "Requirement already satisfied: six>=1.5 in /usr/local/lib/python3.10/dist-packages (from python-dateutil>=2.7->matplotlib->stable-baselines3) (1.16.0)\n",
            "Requirement already satisfied: MarkupSafe>=2.0 in /usr/local/lib/python3.10/dist-packages (from jinja2->torch>=1.13->stable-baselines3) (2.1.5)\n",
            "Requirement already satisfied: mpmath<1.4,>=1.1.0 in /usr/local/lib/python3.10/dist-packages (from sympy->torch>=1.13->stable-baselines3) (1.3.0)\n"
          ]
        }
      ]
    },
    {
      "cell_type": "code",
      "source": [
        "pip install numpy\n"
      ],
      "metadata": {
        "colab": {
          "base_uri": "https://localhost:8080/"
        },
        "id": "4xHrbnmZNNTI",
        "outputId": "7e922e7c-2c40-4753-d917-7eecb1ea4df3"
      },
      "execution_count": 5,
      "outputs": [
        {
          "output_type": "stream",
          "name": "stdout",
          "text": [
            "Requirement already satisfied: numpy in /usr/local/lib/python3.10/dist-packages (1.26.4)\n"
          ]
        }
      ]
    },
    {
      "cell_type": "code",
      "source": [
        "!pip install stable-baselines3\n",
        "from stable_baselines3 import PPO\n",
        "\n",
        "\n",
        "env = DroneEnv()\n",
        "\n",
        "model = PPO(\"MlpPolicy\", env, verbose=1)\n"
      ],
      "metadata": {
        "colab": {
          "base_uri": "https://localhost:8080/"
        },
        "id": "LVgTKiOgL6fN",
        "outputId": "f0a0af85-f396-4c20-d8bb-5513c52e3d65"
      },
      "execution_count": 4,
      "outputs": [
        {
          "output_type": "stream",
          "name": "stdout",
          "text": [
            "Requirement already satisfied: stable-baselines3 in /usr/local/lib/python3.10/dist-packages (2.3.2)\n",
            "Collecting gymnasium<0.30,>=0.28.1 (from stable-baselines3)\n",
            "  Using cached gymnasium-0.29.1-py3-none-any.whl.metadata (10 kB)\n",
            "Requirement already satisfied: numpy>=1.20 in /usr/local/lib/python3.10/dist-packages (from stable-baselines3) (1.26.4)\n",
            "Requirement already satisfied: torch>=1.13 in /usr/local/lib/python3.10/dist-packages (from stable-baselines3) (2.4.1+cu121)\n",
            "Requirement already satisfied: cloudpickle in /usr/local/lib/python3.10/dist-packages (from stable-baselines3) (2.2.1)\n",
            "Requirement already satisfied: pandas in /usr/local/lib/python3.10/dist-packages (from stable-baselines3) (2.1.4)\n",
            "Requirement already satisfied: matplotlib in /usr/local/lib/python3.10/dist-packages (from stable-baselines3) (3.7.1)\n",
            "Requirement already satisfied: typing-extensions>=4.3.0 in /usr/local/lib/python3.10/dist-packages (from gymnasium<0.30,>=0.28.1->stable-baselines3) (4.12.2)\n",
            "Requirement already satisfied: farama-notifications>=0.0.1 in /usr/local/lib/python3.10/dist-packages (from gymnasium<0.30,>=0.28.1->stable-baselines3) (0.0.4)\n",
            "Requirement already satisfied: filelock in /usr/local/lib/python3.10/dist-packages (from torch>=1.13->stable-baselines3) (3.16.1)\n",
            "Requirement already satisfied: sympy in /usr/local/lib/python3.10/dist-packages (from torch>=1.13->stable-baselines3) (1.13.3)\n",
            "Requirement already satisfied: networkx in /usr/local/lib/python3.10/dist-packages (from torch>=1.13->stable-baselines3) (3.3)\n",
            "Requirement already satisfied: jinja2 in /usr/local/lib/python3.10/dist-packages (from torch>=1.13->stable-baselines3) (3.1.4)\n",
            "Requirement already satisfied: fsspec in /usr/local/lib/python3.10/dist-packages (from torch>=1.13->stable-baselines3) (2024.6.1)\n",
            "Requirement already satisfied: contourpy>=1.0.1 in /usr/local/lib/python3.10/dist-packages (from matplotlib->stable-baselines3) (1.3.0)\n",
            "Requirement already satisfied: cycler>=0.10 in /usr/local/lib/python3.10/dist-packages (from matplotlib->stable-baselines3) (0.12.1)\n",
            "Requirement already satisfied: fonttools>=4.22.0 in /usr/local/lib/python3.10/dist-packages (from matplotlib->stable-baselines3) (4.53.1)\n",
            "Requirement already satisfied: kiwisolver>=1.0.1 in /usr/local/lib/python3.10/dist-packages (from matplotlib->stable-baselines3) (1.4.7)\n",
            "Requirement already satisfied: packaging>=20.0 in /usr/local/lib/python3.10/dist-packages (from matplotlib->stable-baselines3) (24.1)\n",
            "Requirement already satisfied: pillow>=6.2.0 in /usr/local/lib/python3.10/dist-packages (from matplotlib->stable-baselines3) (10.4.0)\n",
            "Requirement already satisfied: pyparsing>=2.3.1 in /usr/local/lib/python3.10/dist-packages (from matplotlib->stable-baselines3) (3.1.4)\n",
            "Requirement already satisfied: python-dateutil>=2.7 in /usr/local/lib/python3.10/dist-packages (from matplotlib->stable-baselines3) (2.8.2)\n",
            "Requirement already satisfied: pytz>=2020.1 in /usr/local/lib/python3.10/dist-packages (from pandas->stable-baselines3) (2024.2)\n",
            "Requirement already satisfied: tzdata>=2022.1 in /usr/local/lib/python3.10/dist-packages (from pandas->stable-baselines3) (2024.1)\n",
            "Requirement already satisfied: six>=1.5 in /usr/local/lib/python3.10/dist-packages (from python-dateutil>=2.7->matplotlib->stable-baselines3) (1.16.0)\n",
            "Requirement already satisfied: MarkupSafe>=2.0 in /usr/local/lib/python3.10/dist-packages (from jinja2->torch>=1.13->stable-baselines3) (2.1.5)\n",
            "Requirement already satisfied: mpmath<1.4,>=1.1.0 in /usr/local/lib/python3.10/dist-packages (from sympy->torch>=1.13->stable-baselines3) (1.3.0)\n",
            "Using cached gymnasium-0.29.1-py3-none-any.whl (953 kB)\n",
            "Installing collected packages: gymnasium\n",
            "  Attempting uninstall: gymnasium\n",
            "    Found existing installation: gymnasium 1.0.0a2\n",
            "    Uninstalling gymnasium-1.0.0a2:\n",
            "      Successfully uninstalled gymnasium-1.0.0a2\n",
            "\u001b[31mERROR: pip's dependency resolver does not currently take into account all the packages that are installed. This behaviour is the source of the following dependency conflicts.\n",
            "shimmy 2.0.0 requires gymnasium>=1.0.0a1, but you have gymnasium 0.29.1 which is incompatible.\u001b[0m\u001b[31m\n",
            "\u001b[0mSuccessfully installed gymnasium-0.29.1\n"
          ]
        },
        {
          "output_type": "stream",
          "name": "stderr",
          "text": [
            "/usr/local/lib/python3.10/dist-packages/tensorflow/lite/python/util.py:55: DeprecationWarning: jax.xla_computation is deprecated. Please use the AOT APIs; see https://jax.readthedocs.io/en/latest/aot.html. For example, replace xla_computation(f)(*xs) with jit(f).lower(*xs).compiler_ir('hlo'). See CHANGELOG.md for 0.4.30 for more examples.\n",
            "  from jax import xla_computation as _xla_computation\n"
          ]
        },
        {
          "output_type": "stream",
          "name": "stdout",
          "text": [
            "Using cpu device\n",
            "Wrapping the env with a `Monitor` wrapper\n",
            "Wrapping the env in a DummyVecEnv.\n"
          ]
        },
        {
          "output_type": "stream",
          "name": "stderr",
          "text": [
            "/usr/local/lib/python3.10/dist-packages/stable_baselines3/common/vec_env/patch_gym.py:49: UserWarning: You provided an OpenAI Gym environment. We strongly recommend transitioning to Gymnasium environments. Stable-Baselines3 is automatically wrapping your environments in a compatibility layer, which could potentially cause issues.\n",
            "  warnings.warn(\n"
          ]
        }
      ]
    },
    {
      "cell_type": "code",
      "source": [
        "\n",
        "model.learn(total_timesteps=10000)  # Adjust timesteps as necessary\n"
      ],
      "metadata": {
        "colab": {
          "base_uri": "https://localhost:8080/"
        },
        "id": "RRcr2QsHNYE3",
        "outputId": "d321dd15-47a1-41f9-b2c7-eecb252c8e8a"
      },
      "execution_count": 7,
      "outputs": [
        {
          "output_type": "stream",
          "name": "stdout",
          "text": [
            "---------------------------------\n",
            "| rollout/           |          |\n",
            "|    ep_len_mean     | 76       |\n",
            "|    ep_rew_mean     | -85      |\n",
            "| time/              |          |\n",
            "|    fps             | 978      |\n",
            "|    iterations      | 1        |\n",
            "|    time_elapsed    | 2        |\n",
            "|    total_timesteps | 2048     |\n",
            "---------------------------------\n",
            "-----------------------------------------\n",
            "| rollout/                |             |\n",
            "|    ep_len_mean          | 76          |\n",
            "|    ep_rew_mean          | -85         |\n",
            "| time/                   |             |\n",
            "|    fps                  | 612         |\n",
            "|    iterations           | 2           |\n",
            "|    time_elapsed         | 6           |\n",
            "|    total_timesteps      | 4096        |\n",
            "| train/                  |             |\n",
            "|    approx_kl            | 0.012746413 |\n",
            "|    clip_fraction        | 0.138       |\n",
            "|    clip_range           | 0.2         |\n",
            "|    entropy_loss         | -1.38       |\n",
            "|    explained_variance   | 0.0194      |\n",
            "|    learning_rate        | 0.0003      |\n",
            "|    loss                 | 42.1        |\n",
            "|    n_updates            | 10          |\n",
            "|    policy_gradient_loss | -0.00861    |\n",
            "|    value_loss           | 151         |\n",
            "-----------------------------------------\n",
            "-----------------------------------------\n",
            "| rollout/                |             |\n",
            "|    ep_len_mean          | 76          |\n",
            "|    ep_rew_mean          | -85         |\n",
            "| time/                   |             |\n",
            "|    fps                  | 627         |\n",
            "|    iterations           | 3           |\n",
            "|    time_elapsed         | 9           |\n",
            "|    total_timesteps      | 6144        |\n",
            "| train/                  |             |\n",
            "|    approx_kl            | 0.011393102 |\n",
            "|    clip_fraction        | 0.108       |\n",
            "|    clip_range           | 0.2         |\n",
            "|    entropy_loss         | -1.34       |\n",
            "|    explained_variance   | -0.0767     |\n",
            "|    learning_rate        | 0.0003      |\n",
            "|    loss                 | 0.184       |\n",
            "|    n_updates            | 20          |\n",
            "|    policy_gradient_loss | -0.00366    |\n",
            "|    value_loss           | 105         |\n",
            "-----------------------------------------\n",
            "------------------------------------------\n",
            "| rollout/                |              |\n",
            "|    ep_len_mean          | 76           |\n",
            "|    ep_rew_mean          | -85          |\n",
            "| time/                   |              |\n",
            "|    fps                  | 625          |\n",
            "|    iterations           | 4            |\n",
            "|    time_elapsed         | 13           |\n",
            "|    total_timesteps      | 8192         |\n",
            "| train/                  |              |\n",
            "|    approx_kl            | 0.0025931294 |\n",
            "|    clip_fraction        | 0            |\n",
            "|    clip_range           | 0.2          |\n",
            "|    entropy_loss         | -1.36        |\n",
            "|    explained_variance   | -0.00478     |\n",
            "|    learning_rate        | 0.0003       |\n",
            "|    loss                 | 17           |\n",
            "|    n_updates            | 30           |\n",
            "|    policy_gradient_loss | -7.15e-05    |\n",
            "|    value_loss           | 114          |\n",
            "------------------------------------------\n",
            "------------------------------------------\n",
            "| rollout/                |              |\n",
            "|    ep_len_mean          | 76           |\n",
            "|    ep_rew_mean          | -85          |\n",
            "| time/                   |              |\n",
            "|    fps                  | 628          |\n",
            "|    iterations           | 5            |\n",
            "|    time_elapsed         | 16           |\n",
            "|    total_timesteps      | 10240        |\n",
            "| train/                  |              |\n",
            "|    approx_kl            | 0.0013673245 |\n",
            "|    clip_fraction        | 0            |\n",
            "|    clip_range           | 0.2          |\n",
            "|    entropy_loss         | -1.35        |\n",
            "|    explained_variance   | 0            |\n",
            "|    learning_rate        | 0.0003       |\n",
            "|    loss                 | 23.8         |\n",
            "|    n_updates            | 40           |\n",
            "|    policy_gradient_loss | -0.0012      |\n",
            "|    value_loss           | 111          |\n",
            "------------------------------------------\n"
          ]
        },
        {
          "output_type": "execute_result",
          "data": {
            "text/plain": [
              "<stable_baselines3.ppo.ppo.PPO at 0x7fc0c0b9f1f0>"
            ]
          },
          "metadata": {},
          "execution_count": 7
        }
      ]
    },
    {
      "cell_type": "code",
      "source": [
        "class DroneEnv(gym.Env):\n",
        "    def __init__(self):\n",
        "        super(DroneEnv, self).__init__()\n",
        "        self.action_space = gym.spaces.Discrete(8)  # 0-7: Up, Down, Left, Right, Up-Right, Up-Left, Down-Right, Down-Left\n",
        "        self.observation_space = gym.spaces.Box(low=0, high=10, shape=(2,), dtype=np.float32)\n",
        "        self.state = np.array([5, 5])  # Starting position\n",
        "        self.target = np.array([8, 8])  # Target position\n",
        "        self.obstacles = [np.array([6, 6]), np.array([7, 7])]  # Obstacles\n",
        "\n",
        "    def step(self, action):\n",
        "        if action == 0:  # Up\n",
        "            self.state[1] += 1\n",
        "        elif action == 1:  # Down\n",
        "            self.state[1] -= 1\n",
        "        elif action == 2:  # Left\n",
        "            self.state[0] -= 1\n",
        "        elif action == 3:  # Right\n",
        "            self.state[0] += 1\n",
        "        elif action == 4:  # Up-Right\n",
        "            self.state[0] += 1\n",
        "            self.state[1] += 1\n",
        "        elif action == 5:  # Up-Left\n",
        "            self.state[0] -= 1\n",
        "            self.state[1] += 1\n",
        "        elif action == 6:  # Down-Right\n",
        "            self.state[0] += 1\n",
        "            self.state[1] -= 1\n",
        "        elif action == 7:  # Down-Left\n",
        "            self.state[0] -= 1\n",
        "            self.state[1] -= 1\n",
        "\n",
        "\n"
      ],
      "metadata": {
        "id": "qpjRNziFNsw_"
      },
      "execution_count": 9,
      "outputs": []
    },
    {
      "cell_type": "code",
      "source": [
        "import numpy as np\n",
        "import random\n",
        "\n",
        "class DroneEnv(gym.Env):\n",
        "    def __init__(self):\n",
        "\n",
        "        self.epsilon = 0.1  # Exploration rate\n",
        "\n",
        "    def step(self, action):\n",
        "        # Performing action as before...\n",
        "\n",
        "        # Determining whether to explore or exploit\n",
        "        if random.random() < self.epsilon:\n",
        "            # Exploration: pick a random action\n",
        "            action = self.action_space.sample()\n",
        "\n",
        "        # Implement action and update state...\n",
        "\n",
        "        # Calculate reward...\n",
        "\n",
        "        return self.state, reward, done, {}\n",
        "\n",
        "\n"
      ],
      "metadata": {
        "id": "Wyo_e0lRN2IW"
      },
      "execution_count": 11,
      "outputs": []
    },
    {
      "cell_type": "code",
      "source": [
        "import numpy as np\n",
        "import heapq\n",
        "\n",
        "def heuristic(a, b):\n",
        "    return np.linalg.norm(np.array(a) - np.array(b))\n",
        "\n",
        "def a_star(start, goal, obstacles, grid_width, grid_height):\n",
        "    open_set = []\n",
        "    heapq.heappush(open_set, (0, start))\n",
        "\n",
        "    came_from = {}\n",
        "    g_score = {start: 0}\n",
        "    f_score = {start: heuristic(start, goal)}\n",
        "\n",
        "    while open_set:\n",
        "        current = heapq.heappop(open_set)[1]\n",
        "\n",
        "        if current == goal:\n",
        "            # Reconstruct path\n",
        "            path = []\n",
        "            while current in came_from:\n",
        "                path.append(current)\n",
        "                current = came_from[current]\n",
        "            return path[::-1]\n",
        "\n",
        "        for direction in [(1, 0), (0, 1), (-1, 0), (0, -1)]:\n",
        "            neighbor = (current[0] + direction[0], current[1] + direction[1])\n",
        "            if neighbor in obstacles or not (0 <= neighbor[0] < grid_width and 0 <= neighbor[1] < grid_height):\n",
        "                continue\n",
        "\n",
        "            tentative_g_score = g_score[current] + 1\n",
        "\n",
        "            if neighbor not in g_score or tentative_g_score < g_score[neighbor]:\n",
        "                came_from[neighbor] = current\n",
        "                g_score[neighbor] = tentative_g_score\n",
        "                f_score[neighbor] = tentative_g_score + heuristic(neighbor, goal)\n",
        "                if neighbor not in [i[1] for i in open_set]:\n",
        "                    heapq.heappush(open_set, (f_score[neighbor], neighbor))\n",
        "\n",
        "    return []  # if No path found\n",
        "\n",
        "\n",
        "obstacles = [(6, 6), (7, 7)]\n",
        "start = (5, 4)\n",
        "goal = (8, 8)\n",
        "grid_width = 10  # Set your grid width\n",
        "grid_height = 10  # Set your grid height\n",
        "path = a_star(start, goal, obstacles, grid_width, grid_height)\n",
        "print(\"Path from start to goal:\", path)\n"
      ],
      "metadata": {
        "colab": {
          "base_uri": "https://localhost:8080/"
        },
        "id": "N9GQMXG5N-sN",
        "outputId": "bae12a68-e4d0-4d92-9452-442dde32c012"
      },
      "execution_count": 14,
      "outputs": [
        {
          "output_type": "stream",
          "name": "stdout",
          "text": [
            "Path from start to goal: [(5, 5), (5, 6), (5, 7), (6, 7), (6, 8), (7, 8), (8, 8)]\n"
          ]
        },
        {
          "output_type": "stream",
          "name": "stderr",
          "text": [
            "/usr/local/lib/python3.10/dist-packages/ipykernel/ipkernel.py:283: DeprecationWarning: `should_run_async` will not call `transform_cell` automatically in the future. Please pass the result to `transformed_cell` argument and any exception that happen during thetransform in `preprocessing_exc_tuple` in IPython 7.17 and above.\n",
            "  and should_run_async(code)\n"
          ]
        }
      ]
    },
    {
      "cell_type": "code",
      "source": [
        "# Test\n",
        "obs = env.reset()\n",
        "for _ in range(20):\n",
        "    action, _states = model.predict(obs)\n",
        "    obs, rewards, done, info = env.step(action)\n",
        "    env.render()\n",
        "    if done:\n",
        "        obs = env.reset()\n"
      ],
      "metadata": {
        "colab": {
          "base_uri": "https://localhost:8080/"
        },
        "id": "PKWOr8HdNfxj",
        "outputId": "678f6a16-c135-4bb2-eada-687cf8f62633"
      },
      "execution_count": 15,
      "outputs": [
        {
          "output_type": "stream",
          "name": "stdout",
          "text": [
            "Drone Position: [5 4], Target: [8 8], Obstacles: [array([6, 6]), array([7, 7])]\n",
            "Drone Position: [6 4], Target: [8 8], Obstacles: [array([6, 6]), array([7, 7])]\n",
            "Drone Position: [7 4], Target: [8 8], Obstacles: [array([6, 6]), array([7, 7])]\n",
            "Drone Position: [7 5], Target: [8 8], Obstacles: [array([6, 6]), array([7, 7])]\n",
            "Drone Position: [6 5], Target: [8 8], Obstacles: [array([6, 6]), array([7, 7])]\n",
            "Drone Position: [7 5], Target: [8 8], Obstacles: [array([6, 6]), array([7, 7])]\n",
            "Drone Position: [6 5], Target: [8 8], Obstacles: [array([6, 6]), array([7, 7])]\n",
            "Drone Position: [6 4], Target: [8 8], Obstacles: [array([6, 6]), array([7, 7])]\n",
            "Drone Position: [6 3], Target: [8 8], Obstacles: [array([6, 6]), array([7, 7])]\n",
            "Drone Position: [5 3], Target: [8 8], Obstacles: [array([6, 6]), array([7, 7])]\n",
            "Drone Position: [5 4], Target: [8 8], Obstacles: [array([6, 6]), array([7, 7])]\n",
            "Drone Position: [4 4], Target: [8 8], Obstacles: [array([6, 6]), array([7, 7])]\n",
            "Drone Position: [4 5], Target: [8 8], Obstacles: [array([6, 6]), array([7, 7])]\n",
            "Drone Position: [4 4], Target: [8 8], Obstacles: [array([6, 6]), array([7, 7])]\n",
            "Drone Position: [4 5], Target: [8 8], Obstacles: [array([6, 6]), array([7, 7])]\n",
            "Drone Position: [4 4], Target: [8 8], Obstacles: [array([6, 6]), array([7, 7])]\n",
            "Drone Position: [4 3], Target: [8 8], Obstacles: [array([6, 6]), array([7, 7])]\n",
            "Drone Position: [3 3], Target: [8 8], Obstacles: [array([6, 6]), array([7, 7])]\n",
            "Drone Position: [2 3], Target: [8 8], Obstacles: [array([6, 6]), array([7, 7])]\n",
            "Drone Position: [2 4], Target: [8 8], Obstacles: [array([6, 6]), array([7, 7])]\n"
          ]
        }
      ]
    }
  ]
}
